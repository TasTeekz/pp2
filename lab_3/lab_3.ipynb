{
 "cells": [
  {
   "cell_type": "markdown",
   "metadata": {},
   "source": [
    "# Classes"
   ]
  },
  {
   "cell_type": "markdown",
   "metadata": {},
   "source": [
    "## 1) Class with two methods"
   ]
  },
  {
   "cell_type": "code",
   "execution_count": 1,
   "metadata": {},
   "outputs": [
    {
     "name": "stdout",
     "output_type": "stream",
     "text": [
      "Hello World\n"
     ]
    }
   ],
   "source": [
    "class UpperString:\n",
    "    \n",
    "    def __init__(self):\n",
    "        self.string = None\n",
    "    \n",
    "    def get_string(self):\n",
    "        self.string = input(\"Input string: \")\n",
    "        \n",
    "    def print_string(self):\n",
    "        print(self.string) if self.string else print(\"Nothing to Print\")\n",
    "        \n",
    "if __name__ == \"__main__\":\n",
    "    tool = UpperString()\n",
    "    tool.get_string(), tool.print_string()"
   ]
  },
  {
   "cell_type": "markdown",
   "metadata": {},
   "source": [
    "## 2) Shapes"
   ]
  },
  {
   "cell_type": "code",
   "execution_count": 20,
   "metadata": {},
   "outputs": [
    {
     "name": "stdout",
     "output_type": "stream",
     "text": [
      "Shape area: 0\n",
      "Square area: 100\n"
     ]
    }
   ],
   "source": [
    "class Shape:\n",
    "    def __init__(self):\n",
    "        self._area: int = 0\n",
    "\n",
    "    def area(self):\n",
    "        print(f\"Shape area: {self._area}\")\n",
    "\n",
    "\n",
    "class Square(Shape):\n",
    "    def __init__(self, length: int):\n",
    "        super().__init__()  \n",
    "        self._length = length\n",
    "        self._area = self._length ** 2  \n",
    "\n",
    "    def area(self):\n",
    "        print(f\"Square area: {self._area}\") \n",
    "\n",
    "if __name__ == \"__main__\":\n",
    "    shape = Shape()\n",
    "    square = Square(10)\n",
    "\n",
    "    shape.area(), square.area()"
   ]
  },
  {
   "cell_type": "markdown",
   "metadata": {},
   "source": [
    "## 3) Rectangle"
   ]
  },
  {
   "cell_type": "code",
   "execution_count": 21,
   "metadata": {},
   "outputs": [
    {
     "name": "stdout",
     "output_type": "stream",
     "text": [
      "Rectangle area: 50\n"
     ]
    }
   ],
   "source": [
    "class Rectangle(Shape):\n",
    "    def __init__(self, length: int, width: int):\n",
    "        super().__init__()  \n",
    "        self._length = length\n",
    "        self._width = width\n",
    "        self._area = self._length * self._width  \n",
    "\n",
    "    def area(self):\n",
    "        print(f\"Rectangle area: {self._area}\") \n",
    "\n",
    "if __name__ == \"__main__\":\n",
    "    rectangle = Rectangle(10, 5)\n",
    "\n",
    "    rectangle.area()"
   ]
  },
  {
   "cell_type": "markdown",
   "metadata": {},
   "source": [
    "## 4) Point"
   ]
  },
  {
   "cell_type": "code",
   "execution_count": 22,
   "metadata": {},
   "outputs": [
    {
     "name": "stdout",
     "output_type": "stream",
     "text": [
      "Point(1, 2)\n",
      "Point(4, 6)\n",
      "Distance: 12.5\n",
      "Point(7, 8)\n"
     ]
    }
   ],
   "source": [
    "class Point:\n",
    "    def __init__(self, x: float, y: float):\n",
    "        self.x = x\n",
    "        self.y = y\n",
    "\n",
    "    def show(self):\n",
    "        print(f\"Point({self.x}, {self.y})\")\n",
    "\n",
    "    def move(self, x: float, y: float):\n",
    "        self.x = x\n",
    "        self.y = y\n",
    "\n",
    "    def dist(self, other: 'Point') -> float:\n",
    "        return ((self.x - other.x) ** 2 + (self.y - other.y) ** 2) ** 1/2\n",
    "\n",
    "\n",
    "p1 = Point(1, 2)\n",
    "p2 = Point(4, 6)\n",
    "\n",
    "p1.show()\n",
    "p2.show()\n",
    "\n",
    "print(\"Distance:\", p1.dist(p2)) \n",
    "\n",
    "p1.move(7, 8)\n",
    "p1.show()  "
   ]
  },
  {
   "cell_type": "markdown",
   "metadata": {},
   "source": [
    "## 5) Bank Account"
   ]
  },
  {
   "cell_type": "code",
   "execution_count": 23,
   "metadata": {},
   "outputs": [
    {
     "name": "stdout",
     "output_type": "stream",
     "text": [
      "Account owner: Olzhas\n",
      "Account balance: 100.0\n",
      "\n",
      "Accepted 50. Balance: 150.0\n",
      "\n",
      "Sended 30. Balance: 120.0\n",
      "\n",
      "Insufficient funds.\n",
      "\n",
      "Withdrawal amount must be positive.\n",
      "\n",
      "Deposit amount must be positive.\n",
      "\n"
     ]
    }
   ],
   "source": [
    "class Account:\n",
    "    def __init__(self, owner: str, balance: float = 0.0):\n",
    "        self.owner = owner\n",
    "        self.__balance = balance\n",
    "\n",
    "    def deposit(self, amount: float):\n",
    "        if amount > 0:\n",
    "            self.__balance += amount\n",
    "            print(f\"Accepted {amount}. Balance: {self.__balance}\\n\")\n",
    "        else:\n",
    "            print(\"Deposit amount must be positive.\\n\")\n",
    "\n",
    "    def withdraw(self, amount: float):\n",
    "        if amount > self.__balance:\n",
    "            print(\"Insufficient funds.\\n\")\n",
    "        elif amount > 0:\n",
    "            self.__balance -= amount\n",
    "            print(f\"Sended {amount}. Balance: {self.__balance}\\n\")\n",
    "        else:\n",
    "            print(\"Withdrawal amount must be positive.\\n\")\n",
    "\n",
    "    def __str__(self):\n",
    "        return f\"Account owner: {self.owner}\\nAccount balance: {self.__balance}\\n\"\n",
    "\n",
    "\n",
    "account = Account(\"Olzhas\", 100.0)\n",
    "\n",
    "print(account)\n",
    "account.deposit(50)\n",
    "account.withdraw(30)\n",
    "account.withdraw(150)\n",
    "account.withdraw(-20)\n",
    "account.deposit(-10)"
   ]
  },
  {
   "cell_type": "markdown",
   "metadata": {},
   "source": [
    "## 6) Filter Prime Numbers"
   ]
  },
  {
   "cell_type": "code",
   "execution_count": 24,
   "metadata": {},
   "outputs": [
    {
     "name": "stdout",
     "output_type": "stream",
     "text": [
      "Prime numbers: [2, 3, 5, 7, 11, 13]\n"
     ]
    }
   ],
   "source": [
    "def is_prime(num):\n",
    "    if num <= 1:\n",
    "        return False\n",
    "    for i in range(2, int(num**0.5) + 1):\n",
    "        if num % i == 0:\n",
    "            return False\n",
    "    return True\n",
    "\n",
    "def filter_primes(numbers):\n",
    "    return list(filter(lambda x: is_prime(x), numbers))\n",
    "\n",
    "\n",
    "numbers = [1, 2, 3, 4, 5, 6, 7, 8, 9, 10, 11, 12, 13]\n",
    "print(\"Prime numbers:\", filter_primes(numbers))"
   ]
  },
  {
   "cell_type": "markdown",
   "metadata": {},
   "source": [
    "# Functions 1"
   ]
  },
  {
   "cell_type": "markdown",
   "metadata": {},
   "source": [
    "## 1) Grams to Ounces"
   ]
  },
  {
   "cell_type": "code",
   "execution_count": 25,
   "metadata": {},
   "outputs": [
    {
     "name": "stdout",
     "output_type": "stream",
     "text": [
      "50 g. = 1417.48 oz.\n"
     ]
    }
   ],
   "source": [
    "def to_ounces(grams: float):\n",
    "    return f\"{grams} g. = {(28.3495231 * grams):.2f} oz.\"\n",
    "\n",
    "print(to_ounces(50))"
   ]
  },
  {
   "cell_type": "markdown",
   "metadata": {},
   "source": [
    "## 2) F to C"
   ]
  },
  {
   "cell_type": "code",
   "execution_count": 26,
   "metadata": {},
   "outputs": [
    {
     "name": "stdout",
     "output_type": "stream",
     "text": [
      "50 F = 10.00 C\n"
     ]
    }
   ],
   "source": [
    "def to_celcius(fahrenheit: float):\n",
    "    return f\"{fahrenheit} F = {((5 / 9) * (fahrenheit - 32)):.2f} C\"\n",
    "\n",
    "print(to_celcius(50))"
   ]
  },
  {
   "cell_type": "markdown",
   "metadata": {},
   "source": [
    "## 3) Solve Puzzle"
   ]
  },
  {
   "cell_type": "code",
   "execution_count": 27,
   "metadata": {},
   "outputs": [
    {
     "name": "stdout",
     "output_type": "stream",
     "text": [
      "error\n",
      "\n",
      "chickens: 23\n",
      "rabbits: 12\n",
      "\n",
      "no solution\n",
      "\n"
     ]
    }
   ],
   "source": [
    "def solve(numheads: int, numlegs: int):\n",
    "    if numlegs % 2 != 0 or numheads <= 0 or numlegs <= 0:\n",
    "        return \"error\\n\"\n",
    "\n",
    "    for chickens in range(numheads + 1):\n",
    "        rabbits = numheads - chickens\n",
    "        if 2 * chickens + 4 * rabbits == numlegs:\n",
    "            return f\"chickens: {chickens}\\nrabbits: {rabbits}\\n\"\n",
    "\n",
    "    return \"no solution\\n\"\n",
    "\n",
    "print(solve(-10, 100))\n",
    "print(solve(35, 94))\n",
    "print(solve(30, 30))"
   ]
  },
  {
   "cell_type": "markdown",
   "metadata": {},
   "source": [
    "## 4) Filter Prime Numbers"
   ]
  },
  {
   "cell_type": "code",
   "execution_count": 28,
   "metadata": {},
   "outputs": [
    {
     "name": "stdout",
     "output_type": "stream",
     "text": [
      "[2, 3, 5, 7, 11, 13, 17, 19, 23, 29, 31, 37, 41, 43, 47, 53, 59, 61, 67, 71, 73, 79, 83, 89, 97]\n"
     ]
    }
   ],
   "source": [
    "def is_prime(num: int) -> bool:\n",
    "    if num <= 1:\n",
    "        return False\n",
    "    for i in range(2, int(num**0.5) + 1): \n",
    "        if num % i == 0:\n",
    "            return False\n",
    "    return True\n",
    "\n",
    "def filter_prime(nums: list[int]) -> list[int]:\n",
    "    return [n for n in nums if is_prime(n)]\n",
    "\n",
    "print(filter_prime(range(1, 100)))"
   ]
  },
  {
   "cell_type": "markdown",
   "metadata": {},
   "source": [
    "## 5) Permutations of String"
   ]
  },
  {
   "cell_type": "code",
   "execution_count": 45,
   "metadata": {},
   "outputs": [
    {
     "name": "stdout",
     "output_type": "stream",
     "text": [
      "abc\n",
      "acb\n",
      "bac\n",
      "bca\n",
      "cab\n",
      "cba\n"
     ]
    }
   ],
   "source": [
    "def get_permutations(string: str, prefix: str = \"\") -> str:\n",
    "    if len(string) == 0:\n",
    "        print(prefix)\n",
    "    else:\n",
    "        for i in range(len(string)):\n",
    "            rem = string[:i] + string[i+1:]\n",
    "            get_permutations(rem, prefix + string[i])\n",
    "\n",
    "get_permutations(input(\"Enter a string: \"))"
   ]
  },
  {
   "cell_type": "markdown",
   "metadata": {},
   "source": [
    "## 6) Reverse String"
   ]
  },
  {
   "cell_type": "code",
   "execution_count": 30,
   "metadata": {},
   "outputs": [
    {
     "name": "stdout",
     "output_type": "stream",
     "text": [
      "mjhhjk\n"
     ]
    }
   ],
   "source": [
    "def reverse_string(string: str) -> str:\n",
    "    return \" \".join(string.split()[::-1])\n",
    "\n",
    "print(reverse_string(input(\"Enter a string: \")))"
   ]
  },
  {
   "cell_type": "markdown",
   "metadata": {},
   "source": [
    "## 7) Contains 33"
   ]
  },
  {
   "cell_type": "code",
   "execution_count": 31,
   "metadata": {},
   "outputs": [
    {
     "name": "stdout",
     "output_type": "stream",
     "text": [
      "True\n",
      "False\n",
      "True\n"
     ]
    }
   ],
   "source": [
    "def has_33(nums: list) -> bool:\n",
    "    for i in range(len(nums) - 1):  \n",
    "        if nums[i] == 3 and nums[i + 1] == 3: \n",
    "            return True\n",
    "    return False\n",
    "\n",
    "print(has_33([1, 3, 3]))\n",
    "print(has_33([3, 1, 3]))\n",
    "print(has_33([3, 3, 1]))"
   ]
  },
  {
   "cell_type": "markdown",
   "metadata": {},
   "source": [
    "## 8) Contains 007"
   ]
  },
  {
   "cell_type": "code",
   "execution_count": 32,
   "metadata": {},
   "outputs": [
    {
     "name": "stdout",
     "output_type": "stream",
     "text": [
      "True\n",
      "False\n",
      "False\n"
     ]
    }
   ],
   "source": [
    "def spy_game(nums: list) -> bool:\n",
    "    for i in range(len(nums) - 2):  \n",
    "        if nums[i] == 0 and nums[i + 1] == 0 and nums[i + 2] == 7: \n",
    "            return True\n",
    "    return False\n",
    "\n",
    "print(spy_game([1,2,4,0,0,7,5]))\n",
    "print(spy_game([1,0,2,4,0,5,7]))\n",
    "print(spy_game([1,7,2,0,4,5,0]))"
   ]
  },
  {
   "cell_type": "markdown",
   "metadata": {},
   "source": [
    "## 9) Sphere's Volume"
   ]
  },
  {
   "cell_type": "code",
   "execution_count": 33,
   "metadata": {},
   "outputs": [
    {
     "name": "stdout",
     "output_type": "stream",
     "text": [
      "Vs (R = 10) = 4186.67 cubic units\n"
     ]
    }
   ],
   "source": [
    "def volume(rad: int | float):\n",
    "    return f\"Vs (R = {rad}) = {(4/3 * 3.14 * rad**3):.2f} cubic units\"\n",
    "\n",
    "print(volume(10))"
   ]
  },
  {
   "cell_type": "markdown",
   "metadata": {},
   "source": [
    "## 10) List with unique elements"
   ]
  },
  {
   "cell_type": "code",
   "execution_count": 34,
   "metadata": {},
   "outputs": [
    {
     "name": "stdout",
     "output_type": "stream",
     "text": [
      "[1, 2, 3, 5, 4, 8]\n"
     ]
    }
   ],
   "source": [
    "def new_list(_list: list[int]) -> list[int]:\n",
    "    return list(dict.fromkeys(_list))\n",
    "\n",
    "print(new_list([1, 1, 2, 3, 5, 3, 2, 4, 8]))"
   ]
  },
  {
   "cell_type": "markdown",
   "metadata": {},
   "source": [
    "## 11) Palindrome"
   ]
  },
  {
   "cell_type": "code",
   "execution_count": 35,
   "metadata": {},
   "outputs": [
    {
     "name": "stdout",
     "output_type": "stream",
     "text": [
      "True\n",
      "False\n"
     ]
    }
   ],
   "source": [
    "def is_palindrome(string: str) -> bool:\n",
    "    return True if string == string[::-1] else False\n",
    "\n",
    "print(is_palindrome(\"madam\"))\n",
    "print(is_palindrome(\"orange\"))"
   ]
  },
  {
   "cell_type": "markdown",
   "metadata": {},
   "source": [
    "## 12) Histogram"
   ]
  },
  {
   "cell_type": "code",
   "execution_count": 36,
   "metadata": {},
   "outputs": [
    {
     "name": "stdout",
     "output_type": "stream",
     "text": [
      "****\n",
      "*********\n",
      "*******\n"
     ]
    }
   ],
   "source": [
    "def histogram(data: list[int]) -> str:\n",
    "    return '\\n'.join('*' * n for n in data)\n",
    "\n",
    "print(histogram([4, 9, 7]))"
   ]
  },
  {
   "cell_type": "markdown",
   "metadata": {},
   "source": [
    "## 13) Guess the Number"
   ]
  },
  {
   "cell_type": "code",
   "execution_count": null,
   "metadata": {},
   "outputs": [
    {
     "name": "stdout",
     "output_type": "stream",
     "text": [
      "Well, Olzhas, I am thinking of a number between 1 and 20. \n",
      "\n",
      "Too low\n",
      "Too low\n",
      "Too low\n",
      "Too low\n",
      "Too low\n",
      "Good jood, Olzhas! You guessed my number\n",
      "Please enter a valid number\n",
      "Please enter a valid number\n"
     ]
    }
   ],
   "source": [
    "import random\n",
    "\n",
    "def main():\n",
    "    name = input(\"What is your name: \")\n",
    "    \n",
    "    print(f\"Well, {name}, I am thinking of a number between 1 and 20. \\n\")\n",
    "    number, guesses = random.randint(1,20), 0\n",
    "    \n",
    "    while True:\n",
    "        guess = input(\"Take a guess: \")\n",
    "        \n",
    "        if not guess.isdigit():\n",
    "            print(\"Please enter a valid number\")\n",
    "            continue\n",
    "        \n",
    "        guess = int(input())\n",
    "        \n",
    "        if (guess < 1 or guess > 20):\n",
    "            print(\"Please enter a valid number\")\n",
    "            continue\n",
    "        \n",
    "        guesses += 1\n",
    "        \n",
    "        if guess == number:\n",
    "            print (f\"Good jood, {name}! You guessed my number\")\n",
    "            return 0\n",
    "        elif guess < number:\n",
    "            print(\"Too low\")\n",
    "            guesses += 1\n",
    "        elif guess > number:\n",
    "            print(\"Too high\")\n",
    "            guesses += 1\n",
    "        \n",
    "        \n",
    "            \n",
    "\n",
    "main()"
   ]
  },
  {
   "cell_type": "markdown",
   "metadata": {},
   "source": [
    "# Functions 2"
   ]
  },
  {
   "cell_type": "markdown",
   "metadata": {},
   "source": [
    "## Python Functions"
   ]
  },
  {
   "cell_type": "code",
   "execution_count": 38,
   "metadata": {},
   "outputs": [],
   "source": [
    "# Dictionary of movies\n",
    "\n",
    "movies = [\n",
    "{\n",
    "\"name\": \"Usual Suspects\", \n",
    "\"imdb\": 7.0,\n",
    "\"category\": \"Thriller\"\n",
    "},\n",
    "{\n",
    "\"name\": \"Hitman\",\n",
    "\"imdb\": 6.3,\n",
    "\"category\": \"Action\"\n",
    "},\n",
    "{\n",
    "\"name\": \"Dark Knight\",\n",
    "\"imdb\": 9.0,\n",
    "\"category\": \"Adventure\"\n",
    "},\n",
    "{\n",
    "\"name\": \"The Help\",\n",
    "\"imdb\": 8.0,\n",
    "\"category\": \"Drama\"\n",
    "},\n",
    "{\n",
    "\"name\": \"The Choice\",\n",
    "\"imdb\": 6.2,\n",
    "\"category\": \"Romance\"\n",
    "},\n",
    "{\n",
    "\"name\": \"Colonia\",\n",
    "\"imdb\": 7.4,\n",
    "\"category\": \"Romance\"\n",
    "},\n",
    "{\n",
    "\"name\": \"Love\",\n",
    "\"imdb\": 6.0,\n",
    "\"category\": \"Romance\"\n",
    "},\n",
    "{\n",
    "\"name\": \"Bride Wars\",\n",
    "\"imdb\": 5.4,\n",
    "\"category\": \"Romance\"\n",
    "},\n",
    "{\n",
    "\"name\": \"AlphaJet\",\n",
    "\"imdb\": 3.2,\n",
    "\"category\": \"War\"\n",
    "},\n",
    "{\n",
    "\"name\": \"Ringing Crime\",\n",
    "\"imdb\": 4.0,\n",
    "\"category\": \"Crime\"\n",
    "},\n",
    "{\n",
    "\"name\": \"Joking muck\",\n",
    "\"imdb\": 7.2,\n",
    "\"category\": \"Comedy\"\n",
    "},\n",
    "{\n",
    "\"name\": \"What is the name\",\n",
    "\"imdb\": 9.2,\n",
    "\"category\": \"Suspense\"\n",
    "},\n",
    "{\n",
    "\"name\": \"Detective\",\n",
    "\"imdb\": 7.0,\n",
    "\"category\": \"Suspense\"\n",
    "},\n",
    "{\n",
    "\"name\": \"Exam\",\n",
    "\"imdb\": 4.2,\n",
    "\"category\": \"Thriller\"\n",
    "},\n",
    "{\n",
    "\"name\": \"We Two\",\n",
    "\"imdb\": 7.2,\n",
    "\"category\": \"Romance\"\n",
    "}\n",
    "]"
   ]
  },
  {
   "cell_type": "code",
   "execution_count": 39,
   "metadata": {},
   "outputs": [],
   "source": [
    "import random"
   ]
  },
  {
   "cell_type": "markdown",
   "metadata": {},
   "source": [
    "## 1) IMDB > 5.5"
   ]
  },
  {
   "cell_type": "code",
   "execution_count": 40,
   "metadata": {},
   "outputs": [
    {
     "name": "stdout",
     "output_type": "stream",
     "text": [
      "{'What is the name': True}\n"
     ]
    }
   ],
   "source": [
    "def is_above_55(movie: dict) -> dict:\n",
    "    return { f'{movie[\"name\"]}': True if (movie[\"imdb\"] > 5.5) else False } \n",
    "\n",
    "movie = random.choice(movies)\n",
    "print(is_above_55(movie))"
   ]
  },
  {
   "cell_type": "markdown",
   "metadata": {},
   "source": [
    "## 2) Movies with IMDB > 5.5"
   ]
  },
  {
   "cell_type": "code",
   "execution_count": 41,
   "metadata": {},
   "outputs": [
    {
     "name": "stdout",
     "output_type": "stream",
     "text": [
      "('Usual Suspects', 7.0)\n",
      "('Hitman', 6.3)\n",
      "('Dark Knight', 9.0)\n",
      "('The Help', 8.0)\n",
      "('The Choice', 6.2)\n",
      "('Colonia', 7.4)\n",
      "('Love', 6.0)\n",
      "('Joking muck', 7.2)\n",
      "('What is the name', 9.2)\n",
      "('Detective', 7.0)\n",
      "('We Two', 7.2)\n"
     ]
    }
   ],
   "source": [
    "def movies_55() -> list:\n",
    "    return [(_[\"name\"], _[\"imdb\"]) for _ in movies if _[\"imdb\"] > 5.5]\n",
    "\n",
    "for _ in movies_55():\n",
    "    print(_)"
   ]
  },
  {
   "cell_type": "markdown",
   "metadata": {},
   "source": [
    "## 3) Movies with X category"
   ]
  },
  {
   "cell_type": "code",
   "execution_count": 42,
   "metadata": {},
   "outputs": [
    {
     "name": "stdout",
     "output_type": "stream",
     "text": [
      "Crime Movies:\n",
      "\n",
      "Ringing Crime\n"
     ]
    }
   ],
   "source": [
    "def movies_x_category(category: str) -> list:\n",
    "    return [_ for _ in movies if _[\"category\"] == category]\n",
    "    \n",
    "categories = list(set([_[\"category\"] for _ in movies]))\n",
    "category = random.choice(categories)\n",
    "\n",
    "print(f\"{category} Movies:\\n\")\n",
    "for _ in movies_x_category(category): \n",
    "    print(_[\"name\"])"
   ]
  },
  {
   "cell_type": "markdown",
   "metadata": {},
   "source": [
    "## 4) Average IMDB Score"
   ]
  },
  {
   "cell_type": "code",
   "execution_count": 43,
   "metadata": {},
   "outputs": [
    {
     "name": "stdout",
     "output_type": "stream",
     "text": [
      "Average IMDB: 6.5\n"
     ]
    }
   ],
   "source": [
    "def avg_imdb() -> float:\n",
    "    return sum(_[\"imdb\"] for _ in movies) / len(movies)\n",
    "\n",
    "print(f\"Average IMDB: {avg_imdb():.1f}\")"
   ]
  },
  {
   "cell_type": "markdown",
   "metadata": {},
   "source": [
    "## 5) Average IMDB Score of Category"
   ]
  },
  {
   "cell_type": "code",
   "execution_count": 44,
   "metadata": {},
   "outputs": [
    {
     "name": "stdout",
     "output_type": "stream",
     "text": [
      "Average IMDB of Adventure: 9.0\n"
     ]
    }
   ],
   "source": [
    "def avg_imdb_x(category: str) -> float:\n",
    "    return sum(_[\"imdb\"] for _ in movies_x_category(category)) / len(movies_x_category(category))\n",
    "    \n",
    "categories = list(set([_[\"category\"] for _ in movies]))\n",
    "category = random.choice(categories)\n",
    "\n",
    "print(f\"Average IMDB of {category}: {avg_imdb_x(category):.1f}\")"
   ]
  }
 ],
 "metadata": {
  "kernelspec": {
   "display_name": "Python 3",
   "language": "python",
   "name": "python3"
  },
  "language_info": {
   "codemirror_mode": {
    "name": "ipython",
    "version": 3
   },
   "file_extension": ".py",
   "mimetype": "text/x-python",
   "name": "python",
   "nbconvert_exporter": "python",
   "pygments_lexer": "ipython3",
   "version": "3.13.1"
  }
 },
 "nbformat": 4,
 "nbformat_minor": 2
}
