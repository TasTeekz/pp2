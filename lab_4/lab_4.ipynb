{
 "cells": [
  {
   "cell_type": "markdown",
   "metadata": {},
   "source": [
    "# Date"
   ]
  },
  {
   "cell_type": "markdown",
   "metadata": {},
   "source": [
    "## 1. -5 Days"
   ]
  },
  {
   "cell_type": "code",
   "execution_count": 1,
   "metadata": {},
   "outputs": [
    {
     "name": "stdout",
     "output_type": "stream",
     "text": [
      "2025-02-10 21:23:52.678107\n"
     ]
    }
   ],
   "source": [
    "from datetime import datetime, timedelta\n",
    "\n",
    "def subtract_five_days():\n",
    "    current_date = datetime.now()\n",
    "    result_date = current_date - timedelta(days=5)\n",
    "    return result_date\n",
    "\n",
    "print(subtract_five_days())\n"
   ]
  },
  {
   "cell_type": "markdown",
   "metadata": {},
   "source": [
    "## 2. Today, Yesterday, Tomorrow"
   ]
  },
  {
   "cell_type": "code",
   "execution_count": 6,
   "metadata": {},
   "outputs": [
    {
     "name": "stdout",
     "output_type": "stream",
     "text": [
      "Yesterday: 2025-02-14 21:31:42.557375\n",
      "Today: 2025-02-15 21:31:42.557375\n",
      "Tomorrow: 2025-02-16 21:31:42.557375\n"
     ]
    }
   ],
   "source": [
    "from datetime import datetime, timedelta\n",
    "\n",
    "def print_days():\n",
    "    today = datetime.now()\n",
    "    yesterday = today - timedelta(days=1)\n",
    "    tomorrow = today + timedelta(days=1)\n",
    "    return yesterday, today, tomorrow\n",
    "\n",
    "yesterday, today, tomorrow = print_days()\n",
    "print(\"Yesterday:\", yesterday)\n",
    "print(\"Today:\", today)\n",
    "print(\"Tomorrow:\", tomorrow)\n"
   ]
  },
  {
   "cell_type": "markdown",
   "metadata": {},
   "source": [
    "## 3. Drop microseconds"
   ]
  },
  {
   "cell_type": "code",
   "execution_count": 12,
   "metadata": {},
   "outputs": [
    {
     "name": "stdout",
     "output_type": "stream",
     "text": [
      "2025-02-15 21:37:11\n"
     ]
    }
   ],
   "source": [
    "from datetime import datetime\n",
    "\n",
    "def drop_microseconds():\n",
    "    current_datetime = datetime.now()\n",
    "    result = current_datetime.replace(microsecond=0)\n",
    "    return result\n",
    "\n",
    "print(drop_microseconds())\n"
   ]
  },
  {
   "cell_type": "markdown",
   "metadata": {},
   "source": [
    "## 4. Dif in seconds"
   ]
  },
  {
   "cell_type": "code",
   "execution_count": 4,
   "metadata": {},
   "outputs": [
    {
     "name": "stdout",
     "output_type": "stream",
     "text": [
      "86400.0\n"
     ]
    }
   ],
   "source": [
    "from datetime import datetime\n",
    "\n",
    "def date_difference_in_seconds(date1, date2):\n",
    "    format_str = \"%Y-%m-%d %H:%M:%S\"\n",
    "    d1 = datetime.strptime(date1, format_str)\n",
    "    d2 = datetime.strptime(date2, format_str)\n",
    "    difference = abs((d2 - d1).total_seconds())\n",
    "    return difference\n",
    "\n",
    "date1 = \"2025-02-15 12:00:00\"\n",
    "date2 = \"2025-02-14 12:00:00\"\n",
    "print(date_difference_in_seconds(date1, date2))\n"
   ]
  },
  {
   "cell_type": "markdown",
   "metadata": {},
   "source": [
    "# Generators"
   ]
  },
  {
   "cell_type": "markdown",
   "metadata": {},
   "source": [
    "## 1. Squares for n"
   ]
  },
  {
   "cell_type": "code",
   "execution_count": 5,
   "metadata": {},
   "outputs": [
    {
     "name": "stdout",
     "output_type": "stream",
     "text": [
      "1\n",
      "4\n",
      "9\n",
      "16\n",
      "25\n",
      "36\n",
      "49\n",
      "64\n",
      "81\n",
      "100\n"
     ]
    }
   ],
   "source": [
    "def square_generator(N):\n",
    "    for i in range(1, N + 1):\n",
    "        yield i ** 2\n",
    "\n",
    "gen = square_generator(10)\n",
    "for square in gen:\n",
    "    print(square)\n"
   ]
  },
  {
   "cell_type": "markdown",
   "metadata": {},
   "source": [
    "## 2. Even numbers"
   ]
  },
  {
   "cell_type": "code",
   "execution_count": 11,
   "metadata": {},
   "outputs": [
    {
     "name": "stdout",
     "output_type": "stream",
     "text": [
      "0,2,4,6,8,10,12,14,16,18,20,22\n"
     ]
    }
   ],
   "source": [
    "def even_number_generator(n):\n",
    "    for i in range(0, n + 1, 2):\n",
    "        yield i\n",
    "\n",
    "n = int(input(\"Enter a number: \"))\n",
    "even_numbers = even_number_generator(n)\n",
    "print(\",\".join(str(n) for n in even_numbers))\n"
   ]
  },
  {
   "cell_type": "markdown",
   "metadata": {},
   "source": [
    "## 3. Div by 3 and 4"
   ]
  },
  {
   "cell_type": "code",
   "execution_count": 14,
   "metadata": {},
   "outputs": [
    {
     "name": "stdout",
     "output_type": "stream",
     "text": [
      "0,12,24,36,48\n"
     ]
    }
   ],
   "source": [
    "def divisible_34(n):\n",
    "    for i in range(0, n + 1):\n",
    "        if (i % 3 == 0 and i % 4 == 0):\n",
    "            yield i\n",
    "            \n",
    "n = int(input(\"Enter the number: \"))\n",
    "div = divisible_34(n)\n",
    "print(\",\".join(str(n) for n in div))"
   ]
  },
  {
   "cell_type": "markdown",
   "metadata": {},
   "source": [
    "## 4. Squares between a and b"
   ]
  },
  {
   "cell_type": "code",
   "execution_count": 3,
   "metadata": {},
   "outputs": [
    {
     "name": "stdout",
     "output_type": "stream",
     "text": [
      "25\n",
      "36\n",
      "49\n",
      "64\n",
      "81\n",
      "100\n",
      "121\n"
     ]
    }
   ],
   "source": [
    "def squares(a, b):\n",
    "    for i in range (a, b + 1):\n",
    "        yield i ** 2\n",
    "        \n",
    "a = int(input(\"Enter the start number: \"))\n",
    "b = int(input(\"Enter the end number: \"))\n",
    "\n",
    "for square in squares(a, b):\n",
    "    print(square)"
   ]
  },
  {
   "cell_type": "markdown",
   "metadata": {},
   "source": [
    "## 5. Down to 0"
   ]
  },
  {
   "cell_type": "code",
   "execution_count": 16,
   "metadata": {},
   "outputs": [
    {
     "name": "stdout",
     "output_type": "stream",
     "text": [
      "5\n",
      "4\n",
      "3\n",
      "2\n",
      "1\n",
      "0\n"
     ]
    }
   ],
   "source": [
    "def down(n):\n",
    "    while(n >= 0):\n",
    "        yield n\n",
    "        n = n - 1\n",
    "        \n",
    "num = int(input(\"Enter the number: \"))\n",
    "for value in down(num):\n",
    "    print(value)"
   ]
  },
  {
   "cell_type": "markdown",
   "metadata": {},
   "source": [
    "# Math"
   ]
  },
  {
   "cell_type": "markdown",
   "metadata": {},
   "source": [
    "## 1. Degree to radian"
   ]
  },
  {
   "cell_type": "code",
   "execution_count": 20,
   "metadata": {},
   "outputs": [
    {
     "name": "stdout",
     "output_type": "stream",
     "text": [
      "Output radian:  0.2617993877991494\n"
     ]
    }
   ],
   "source": [
    "import math\n",
    "\n",
    "def degree(deg):\n",
    "    rad = deg * (math.pi / 180)\n",
    "    return rad\n",
    "\n",
    "a = int(input(\"Input degree: \"))\n",
    "print(\"Output radian: \", degree(a))"
   ]
  },
  {
   "cell_type": "markdown",
   "metadata": {},
   "source": [
    "## 2. Area of a trapezoid"
   ]
  },
  {
   "cell_type": "code",
   "execution_count": 24,
   "metadata": {},
   "outputs": [
    {
     "name": "stdout",
     "output_type": "stream",
     "text": [
      "Expected output: 27.5\n"
     ]
    }
   ],
   "source": [
    "def trapezoid(h, a, b):\n",
    "    area = h * (a + b) / 2\n",
    "    return area\n",
    "\n",
    "h = float(input(\"Heihgt: \"))\n",
    "a = float(input(\"Base, first value: \"))\n",
    "b = float(input(\"Base, second value: \"))\n",
    "\n",
    "print(\"Expected output:\", trapezoid(h, a, b))"
   ]
  },
  {
   "cell_type": "markdown",
   "metadata": {},
   "source": [
    "## 3. Polygon"
   ]
  },
  {
   "cell_type": "code",
   "execution_count": 28,
   "metadata": {},
   "outputs": [
    {
     "name": "stdout",
     "output_type": "stream",
     "text": [
      "The area of the polygon is:  625.0\n"
     ]
    }
   ],
   "source": [
    "import math\n",
    "\n",
    "def area(n, l):\n",
    "    area = (n * l ** 2) / (4 * math.tan(math.pi / n))\n",
    "    return area\n",
    "\n",
    "n = int(input(\"Input number of sides: \"))\n",
    "l = int(input(\"Input the length of a side: \"))\n",
    "\n",
    "print(\"The area of the polygon is: \", round(area(n, l), 2))"
   ]
  },
  {
   "cell_type": "markdown",
   "metadata": {},
   "source": [
    "## 4. Parallelogram"
   ]
  },
  {
   "cell_type": "code",
   "execution_count": 29,
   "metadata": {},
   "outputs": [
    {
     "name": "stdout",
     "output_type": "stream",
     "text": [
      "Expected Output:  30\n"
     ]
    }
   ],
   "source": [
    "def area(b, h):\n",
    "    return b * h\n",
    "\n",
    "base = int(input(\"Length of base: \"))\n",
    "height = int(input(\"Height of parallelogram: \"))\n",
    "print(\"Expected Output: \", round(area(base, height), 2))"
   ]
  }
 ],
 "metadata": {
  "kernelspec": {
   "display_name": "Python 3",
   "language": "python",
   "name": "python3"
  },
  "language_info": {
   "codemirror_mode": {
    "name": "ipython",
    "version": 3
   },
   "file_extension": ".py",
   "mimetype": "text/x-python",
   "name": "python",
   "nbconvert_exporter": "python",
   "pygments_lexer": "ipython3",
   "version": "3.13.1"
  }
 },
 "nbformat": 4,
 "nbformat_minor": 2
}
