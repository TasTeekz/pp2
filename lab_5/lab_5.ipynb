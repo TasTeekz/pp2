{
 "cells": [
  {
   "cell_type": "code",
   "execution_count": 76,
   "metadata": {},
   "outputs": [
    {
     "name": "stdout",
     "output_type": "stream",
     "text": [
      "The quick brown fox jumps over the lazy dog. \n",
      "Email: example.user123@mail.com, another.email@domain.org\n",
      "Phone: +1-800-555-0199, (123) 456-7890\n",
      "Address: 1234 Elm Street, Apt 567, Springfield, IL 62704\n",
      "\n",
      "Date: 12/31/2024, 2024-12-31, 31-12-2024\n",
      "Time: 14:30, 02:30 PM, 23:59\n",
      "\n",
      "Usernames:\n",
      "- user_001\n",
      "- Admin_99\n",
      "- regexMaster_123\n",
      "\n",
      "Sentences with numbers: \n",
      "- There are 42 apples in the basket.\n",
      "- The price of the laptop is $999.99.\n",
      "- My ID is A1234567.\n",
      "\n",
      "Special characters: @#$%^&*()_+={}[]|;:'\",.<>?/~`\n",
      "\n",
      "Lorem ipsum dolor sit amet, consectetur adipiscing elit. \n",
      "Suspendisse potenti. Sed euismod, nisi ac venenatis luctus, velit felis posuere lacus, at venenatis justo neque sed lorem.\n",
      "\n",
      "John's email is john.doe@example.com, and his backup is johndoe123@work.net.  \n",
      "Call him at +1-555-123-4567 or his office line (555) 765-4321.  \n",
      "His website is https://www.johndoe.dev, and his IP address is 192.168.0.1.  \n",
      "The price of the item is $19.99, but with a discount, itвЂ™s now $14.99.  \n",
      "Today's date is 17/02/2025, and another format is 2025-02-17.  \n",
      "HereвЂ™s some HTML: <div class=\"container\">Hello, World!</div>  \n",
      "Watch out for special characters like !@#$%^&*()_+={}[]|:;\"'<>,.?/\n",
      "\n",
      "A regular expression (or RE) specifies a set of strings that matches it; \n",
      "the functions in this module let you check if a particular string matches a given regular expression (or if a given regular expression matches a particular string, which comes down to the same thing). \n",
      "Regular expressions can be concatenated to form new regular expressions; \n",
      "if A and B are both regular expressions, then AB is also a regular expression. \n",
      "In general, if a string p matches A and another string q matches B, the string pq will match AB. \n",
      "This holds unless A or B contain low precedence operations; boundary conditions between A and B; \n",
      "or have numbered group references. \n",
      "Thus, complex expressions can easily be constructed from simpler primitive expressions like the ones described here. \n",
      "For details of the theory and implementation of regular expressions, consult the Friedl book [Frie09], or almost any textbook about compiler construction. \n",
      "A brief explanation of the format of regular expressions follows. \n",
      "For further information and a gentler presentation, consult the Regular Expression HOWTO. \n",
      "Regular expressions can contain both special and ordinary characters. \n",
      "Most ordinary characters, like 'A', 'a', or '0', are the simplest regular expressions; \n",
      "they simply match themselves. You can concatenate ordinary characters, so last matches the string 'last'. \n",
      "(In the rest of this section, weвЂ™ll write REвЂ™s in this special style, usually without quotes, and strings to be matched 'in single quotes'.)\n",
      "\n"
     ]
    }
   ],
   "source": [
    "with open(\"row.txt\", \"r\") as file:\n",
    "    content = file.read()\n",
    "    \n",
    "print(content)"
   ]
  },
  {
   "cell_type": "markdown",
   "metadata": {},
   "source": [
    "# 1. a with 0 or more b"
   ]
  },
  {
   "cell_type": "code",
   "execution_count": 77,
   "metadata": {},
   "outputs": [
    {
     "name": "stdout",
     "output_type": "stream",
     "text": [
      "\"lazy\" \"Email\" \"example\" \"mail\" \"another\" \"email\" \"domain\" \"Address\" \"Apt\" \"Date\" \"Usernames\" \"Admin_99\" \"regexMaster_123\" \"are\" \"apples\" \"basket\" \"laptop\" \"A1234567\" \"Special\" \"characters\" \"amet\" \"adipiscing\" \"ac\" \"venenatis\" \"lacus\" \"at\" \"venenatis\" \"email\" \"example\" \"and\" \"backup\" \"Call\" \"at\" \"and\" \"address\" \"a\" \"Today\" \"date\" \"and\" \"another\" \"format\" \"class\" \"container\" \"Watch\" \"special\" \"characters\" \"A\" \"regular\" \"a\" \"that\" \"matches\" \"a\" \"particular\" \"matches\" \"a\" \"regular\" \"a\" \"regular\" \"matches\" \"a\" \"particular\" \"same\" \"Regular\" \"can\" \"concatenated\" \"regular\" \"A\" \"and\" \"are\" \"regular\" \"AB\" \"also\" \"a\" \"regular\" \"general\" \"a\" \"matches\" \"A\" \"and\" \"another\" \"matches\" \"match\" \"AB\" \"A\" \"contain\" \"operations\" \"boundary\" \"A\" \"and\" \"have\" \"can\" \"easily\" \"details\" \"and\" \"implementation\" \"regular\" \"almost\" \"any\" \"about\" \"A\" \"explanation\" \"format\" \"regular\" \"information\" \"and\" \"a\" \"presentation\" \"Regular\" \"Regular\" \"can\" \"contain\" \"special\" \"and\" \"ordinary\" \"characters\" \"ordinary\" \"characters\" \"A\" \"a\" \"are\" \"regular\" \"match\" \"can\" \"concatenate\" \"ordinary\" \"characters\" \"last\" \"matches\" \"last\" \"special\" \"usually\" \"and\" \"matched\"\n"
     ]
    }
   ],
   "source": [
    "import re\n",
    "\n",
    "def match_a(text):\n",
    "    pattern = r'\\b\\w*a\\w*\\b'\n",
    "    return re.findall(pattern, text, re.IGNORECASE)\n",
    "\n",
    "matching_words = match_a(content)\n",
    "\n",
    "if matching_words:\n",
    "    print(\" \".join(f'\"{word}\"' for word in matching_words))\n"
   ]
  },
  {
   "cell_type": "markdown",
   "metadata": {},
   "source": [
    "# 2. a with 2 or 3 b"
   ]
  },
  {
   "cell_type": "code",
   "execution_count": 78,
   "metadata": {},
   "outputs": [],
   "source": [
    "import re\n",
    "\n",
    "def match_a_bb(text):\n",
    "    pattern = r'\\b\\w*a(bb|bbb)\\w*\\b' \n",
    "    return re.findall(pattern, text)\n",
    "\n",
    "matching_patterns = match_a_bb(content)\n",
    "\n",
    "if matching_patterns:\n",
    "    print(\" \".join(f'\"{match}\"' for match in matching_patterns))"
   ]
  },
  {
   "cell_type": "markdown",
   "metadata": {},
   "source": [
    "# 3. lowercase and undercase"
   ]
  },
  {
   "cell_type": "code",
   "execution_count": 79,
   "metadata": {},
   "outputs": [],
   "source": [
    "import re\n",
    "\n",
    "def match_l_u(text):\n",
    "    pattern = r'\\b[a-z]+_[a-z]+\\b'\n",
    "    return re.findall(pattern, text)\n",
    "\n",
    "matching_patterns = match_l_u(content)\n",
    "\n",
    "if matching_patterns:\n",
    "    print(\" \".join(f'\"{match}\"' for match in matching_patterns))"
   ]
  },
  {
   "cell_type": "markdown",
   "metadata": {},
   "source": [
    "# 4. uppercase and lowercases"
   ]
  },
  {
   "cell_type": "code",
   "execution_count": 80,
   "metadata": {},
   "outputs": [
    {
     "name": "stdout",
     "output_type": "stream",
     "text": [
      "\"The\" \"Email\" \"Phone\" \"Address\" \"Elm\" \"Street\" \"Apt\" \"Springfield\" \"Date\" \"Time\" \"Usernames\" \"Sentences\" \"There\" \"The\" \"My\" \"Special\" \"Lorem\" \"Suspendisse\" \"Sed\" \"John\" \"Call\" \"His\" \"The\" \"Today\" \"Hello\" \"World\" \"Watch\" \"Regular\" \"In\" \"This\" \"Thus\" \"For\" \"Friedl\" \"For\" \"Regular\" \"Expression\" \"Regular\" \"Most\" \"You\" \"In\"\n"
     ]
    }
   ],
   "source": [
    "import re\n",
    "\n",
    "def match_u_l(text):\n",
    "    pattern = r'\\b[A-Z]+[a-z]+\\b'\n",
    "    return re.findall(pattern, text)\n",
    "\n",
    "matching_patterns = match_u_l(content)\n",
    "\n",
    "if matching_patterns:\n",
    "    print(\" \".join(f'\"{match}\"' for match in matching_patterns))"
   ]
  },
  {
   "cell_type": "markdown",
   "metadata": {},
   "source": [
    "# 5. a end b"
   ]
  },
  {
   "cell_type": "code",
   "execution_count": 81,
   "metadata": {},
   "outputs": [
    {
     "name": "stdout",
     "output_type": "stream",
     "text": [
      "\"ab\"\n"
     ]
    }
   ],
   "source": [
    "import re\n",
    "\n",
    "def match_a_end_b(text):\n",
    "    pattern = r'\\b\\w*a+\\w*b'\n",
    "    return re.findall(pattern, text)\n",
    "\n",
    "matching_patterns= match_a_end_b(content)\n",
    "\n",
    "if matching_patterns:\n",
    "    print(\" \".join(f'\"{match}\"' for match in matching_patterns))"
   ]
  },
  {
   "cell_type": "markdown",
   "metadata": {},
   "source": [
    "# 6. replace occurences "
   ]
  },
  {
   "cell_type": "code",
   "execution_count": 83,
   "metadata": {},
   "outputs": [
    {
     "name": "stdout",
     "output_type": "stream",
     "text": [
      "The:quick:brown:fox:jumps:over:the:lazy:dog::\n",
      "Email::example:user123@mail:com::another:email@domain:org\n",
      "Phone::+1-800-555-0199::(123):456-7890\n",
      "Address::1234:Elm:Street::Apt:567::Springfield::IL:62704\n",
      "\n",
      "Date::12/31/2024::2024-12-31::31-12-2024\n",
      "Time::14:30::02:30:PM::23:59\n",
      "\n",
      "Usernames:\n",
      "-:user_001\n",
      "-:Admin_99\n",
      "-:regexMaster_123\n",
      "\n",
      "Sentences:with:numbers::\n",
      "-:There:are:42:apples:in:the:basket:\n",
      "-:The:price:of:the:laptop:is:$999:99:\n",
      "-:My:ID:is:A1234567:\n",
      "\n",
      "Special:characters::@#$%^&*()_+={}[]|;:'\"::<>?/~`\n",
      "\n",
      "Lorem:ipsum:dolor:sit:amet::consectetur:adipiscing:elit::\n",
      "Suspendisse:potenti::Sed:euismod::nisi:ac:venenatis:luctus::velit:felis:posuere:lacus::at:venenatis:justo:neque:sed:lorem:\n",
      "\n",
      "John's:email:is:john:doe@example:com::and:his:backup:is:johndoe123@work:net:::\n",
      "Call:him:at:+1-555-123-4567:or:his:office:line:(555):765-4321:::\n",
      "His:website:is:https://www:johndoe:dev::and:his:IP:address:is:192:168:0:1:::\n",
      "The:price:of:the:item:is:$19:99::but:with:a:discount::itвЂ™s:now:$14:99:::\n",
      "Today's:date:is:17/02/2025::and:another:format:is:2025-02-17:::\n",
      "HereвЂ™s:some:HTML::<div:class=\"container\">Hello::World!</div>::\n",
      "Watch:out:for:special:characters:like:!@#$%^&*()_+={}[]|:;\"'<>::?/\n",
      "\n",
      "A:regular:expression:(or:RE):specifies:a:set:of:strings:that:matches:it;:\n",
      "the:functions:in:this:module:let:you:check:if:a:particular:string:matches:a:given:regular:expression:(or:if:a:given:regular:expression:matches:a:particular:string::which:comes:down:to:the:same:thing)::\n",
      "Regular:expressions:can:be:concatenated:to:form:new:regular:expressions;:\n",
      "if:A:and:B:are:both:regular:expressions::then:AB:is:also:a:regular:expression::\n",
      "In:general::if:a:string:p:matches:A:and:another:string:q:matches:B::the:string:pq:will:match:AB::\n",
      "This:holds:unless:A:or:B:contain:low:precedence:operations;:boundary:conditions:between:A:and:B;:\n",
      "or:have:numbered:group:references::\n",
      "Thus::complex:expressions:can:easily:be:constructed:from:simpler:primitive:expressions:like:the:ones:described:here::\n",
      "For:details:of:the:theory:and:implementation:of:regular:expressions::consult:the:Friedl:book:[Frie09]::or:almost:any:textbook:about:compiler:construction::\n",
      "A:brief:explanation:of:the:format:of:regular:expressions:follows::\n",
      "For:further:information:and:a:gentler:presentation::consult:the:Regular:Expression:HOWTO::\n",
      "Regular:expressions:can:contain:both:special:and:ordinary:characters::\n",
      "Most:ordinary:characters::like:'A'::'a'::or:'0'::are:the:simplest:regular:expressions;:\n",
      "they:simply:match:themselves::You:can:concatenate:ordinary:characters::so:last:matches:the:string:'last'::\n",
      "(In:the:rest:of:this:section::weвЂ™ll:write:REвЂ™s:in:this:special:style::usually:without:quotes::and:strings:to:be:matched:'in:single:quotes':)\n",
      "\n"
     ]
    }
   ],
   "source": [
    "import re\n",
    "\n",
    "def replace_occurences(text):\n",
    "    return re.sub(r'[ ,.]', ':', text)\n",
    "\n",
    "text = replace_occurences(content)\n",
    "\n",
    "print(text)\n"
   ]
  },
  {
   "cell_type": "markdown",
   "metadata": {},
   "source": [
    "# 7. snake to camel"
   ]
  },
  {
   "cell_type": "code",
   "execution_count": 95,
   "metadata": {},
   "outputs": [
    {
     "name": "stdout",
     "output_type": "stream",
     "text": [
      "- user001\n",
      "- Admin99\n",
      "- regexMaster123\n",
      "Special characters: @#$%^&*()+={}[]|;:'\",.<>?/~`\n",
      "Watch out for special characters like !@#$%^&*()+={}[]|:;\"'<>,.?/\n"
     ]
    }
   ],
   "source": [
    "import re\n",
    "\n",
    "def snake_to_camel(snake):\n",
    "    components = snake.split('_')\n",
    "    return components[0] + ''.join(x.title() for x in components[1:])\n",
    "\n",
    "lines = content.split(\"\\n\")\n",
    "camel_case_string = [snake_to_camel(line) for line in lines if \"_\" in line]\n",
    "\n",
    "for string in camel_case_string:\n",
    "    print(string)"
   ]
  },
  {
   "cell_type": "markdown",
   "metadata": {},
   "source": [
    "# 8. uppercase"
   ]
  },
  {
   "cell_type": "code",
   "execution_count": 101,
   "metadata": {},
   "outputs": [
    {
     "name": "stdout",
     "output_type": "stream",
     "text": [
      "The, Email, Phone, Address, Elm, Street, Apt, Springfield, I, L, Date, Time, P, M, Usernames, Admin, Master, Sentences, There, The, My, I, D, A, Special, Lorem, Suspendisse, Sed, John, Call, His, I, P, The, Today, Here, H, T, M, L, Hello, World, Watch, A, R, E, Regular, A, B, A, B, In, A, B, A, B, This, A, B, A, B, Thus, For, Friedl, Frie, A, For, Regular, Expression, H, O, W, T, O, Regular, Most, A, You, In, R, E\n"
     ]
    }
   ],
   "source": [
    "import re\n",
    "\n",
    "def split_at_uppercase(text):\n",
    "    return re.findall(r'[A-Z][a-z]*', text)\n",
    "\n",
    "split_words = split_at_uppercase(content)\n",
    "\n",
    "print(\", \".join(split_words))"
   ]
  },
  {
   "cell_type": "markdown",
   "metadata": {},
   "source": [
    "# 9. space between words"
   ]
  },
  {
   "cell_type": "code",
   "execution_count": null,
   "metadata": {},
   "outputs": [
    {
     "name": "stdout",
     "output_type": "stream",
     "text": [
      " The quick brown fox jumps over the lazy dog. \n",
      " Email: example.user123@mail.com, another.email@domain.org\n",
      " Phone: +1-800-555-0199, (123) 456-7890\n",
      " Address: 1234  Elm  Street,  Apt 567,  Springfield,  I L 62704\n",
      "\n",
      " Date: 12/31/2024, 2024-12-31, 31-12-2024\n",
      " Time: 14:30, 02:30  P M, 23:59\n",
      "\n",
      " Usernames:\n",
      "- user_001\n",
      "-  Admin_99\n",
      "- regex Master_123\n",
      "\n",
      " Sentences with numbers: \n",
      "-  There are 42 apples in the basket.\n",
      "-  The price of the laptop is $999.99.\n",
      "-  My  I D is  A1234567.\n",
      "\n",
      " Special characters: @#$%^&*()_+={}[]|;:'\",.<>?/~`\n",
      "\n",
      " Lorem ipsum dolor sit amet, consectetur adipiscing elit. \n",
      " Suspendisse potenti.  Sed euismod, nisi ac venenatis luctus, velit felis posuere lacus, at venenatis justo neque sed lorem.\n",
      "\n",
      " John's email is john.doe@example.com, and his backup is johndoe123@work.net.  \n",
      " Call him at +1-555-123-4567 or his office line (555) 765-4321.  \n",
      " His website is https://www.johndoe.dev, and his  I P address is 192.168.0.1.  \n",
      " The price of the item is $19.99, but with a discount, itвЂ™s now $14.99.  \n",
      " Today's date is 17/02/2025, and another format is 2025-02-17.  \n",
      " HereвЂ™s some  H T M L: <div class=\"container\"> Hello,  World!</div>  \n",
      " Watch out for special characters like !@#$%^&*()_+={}[]|:;\"'<>,.?/\n",
      "\n",
      " A regular expression (or  R E) specifies a set of strings that matches it; \n",
      "the functions in this module let you check if a particular string matches a given regular expression (or if a given regular expression matches a particular string, which comes down to the same thing). \n",
      " Regular expressions can be concatenated to form new regular expressions; \n",
      "if  A and  B are both regular expressions, then  A B is also a regular expression. \n",
      " In general, if a string p matches  A and another string q matches  B, the string pq will match  A B. \n",
      " This holds unless  A or  B contain low precedence operations; boundary conditions between  A and  B; \n",
      "or have numbered group references. \n",
      " Thus, complex expressions can easily be constructed from simpler primitive expressions like the ones described here. \n",
      " For details of the theory and implementation of regular expressions, consult the  Friedl book [ Frie09], or almost any textbook about compiler construction. \n",
      " A brief explanation of the format of regular expressions follows. \n",
      " For further information and a gentler presentation, consult the  Regular  Expression  H O W T O. \n",
      " Regular expressions can contain both special and ordinary characters. \n",
      " Most ordinary characters, like ' A', 'a', or '0', are the simplest regular expressions; \n",
      "they simply match themselves.  You can concatenate ordinary characters, so last matches the string 'last'. \n",
      "( In the rest of this section, weвЂ™ll write  R EвЂ™s in this special style, usually without quotes, and strings to be matched 'in single quotes'.)\n",
      "\n"
     ]
    }
   ],
   "source": [
    "import re\n",
    "\n",
    "def insert_spaces(text):\n",
    "    # return re.sub(r'(?=[A-Z])', ' ', text)\n",
    "\n",
    "text = insert_spaces(content)\n",
    "\n",
    "print(text)"
   ]
  }
 ],
 "metadata": {
  "kernelspec": {
   "display_name": "Python 3",
   "language": "python",
   "name": "python3"
  },
  "language_info": {
   "codemirror_mode": {
    "name": "ipython",
    "version": 3
   },
   "file_extension": ".py",
   "mimetype": "text/x-python",
   "name": "python",
   "nbconvert_exporter": "python",
   "pygments_lexer": "ipython3",
   "version": "3.13.1"
  }
 },
 "nbformat": 4,
 "nbformat_minor": 2
}
