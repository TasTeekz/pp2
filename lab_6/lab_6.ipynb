{
 "cells": [
  {
   "cell_type": "markdown",
   "metadata": {},
   "source": [
    "# Builtin Functions"
   ]
  },
  {
   "cell_type": "markdown",
   "metadata": {},
   "source": [
    "## 1. multiply all numbers"
   ]
  },
  {
   "cell_type": "code",
   "execution_count": 2,
   "metadata": {},
   "outputs": [
    {
     "name": "stdout",
     "output_type": "stream",
     "text": [
      "120\n"
     ]
    }
   ],
   "source": [
    "import math\n",
    "\n",
    "def multiply_list(numbers):\n",
    "    return math.prod(numbers)\n",
    "\n",
    "numbers = [2, 3, 4, 5]\n",
    "result = multiply_list(numbers)\n",
    "print(result)"
   ]
  },
  {
   "cell_type": "markdown",
   "metadata": {},
   "source": [
    "## 2. count upper and lower cases"
   ]
  },
  {
   "cell_type": "code",
   "execution_count": 5,
   "metadata": {},
   "outputs": [
    {
     "name": "stdout",
     "output_type": "stream",
     "text": [
      "2 8\n"
     ]
    }
   ],
   "source": [
    "def count_case_letters(a):\n",
    "    upper_count = sum(1 for char in a if char.isupper())\n",
    "    lower_count = sum(1 for char in a if char.islower())\n",
    "    \n",
    "    print (upper_count, lower_count)\n",
    "\n",
    "sentence = input()\n",
    "count_case_letters(sentence)"
   ]
  },
  {
   "cell_type": "markdown",
   "metadata": {},
   "source": [
    "## 3. palindrome"
   ]
  },
  {
   "cell_type": "code",
   "execution_count": 8,
   "metadata": {},
   "outputs": [
    {
     "name": "stdout",
     "output_type": "stream",
     "text": [
      "Yes\n"
     ]
    }
   ],
   "source": [
    "def palindrome(a):\n",
    "    if a == a[::-1]:\n",
    "        print(\"Yes\")\n",
    "    else:\n",
    "        print(\"No\")\n",
    "\n",
    "word = input()\n",
    "palindrome(word)"
   ]
  },
  {
   "cell_type": "markdown",
   "metadata": {},
   "source": [
    "## 4. square root"
   ]
  },
  {
   "cell_type": "code",
   "execution_count": null,
   "metadata": {},
   "outputs": [
    {
     "name": "stdout",
     "output_type": "stream",
     "text": [
      "Square root of 25100.0 after 2123 miliseconds is 158.42979517754858\n"
     ]
    }
   ],
   "source": [
    "import time\n",
    "import math\n",
    "\n",
    "def delayed_sqrt(number, delay_ms):\n",
    "    time.sleep(delay_ms / 1000) \n",
    "    result = math.sqrt(number)\n",
    "    print(f\"Square root of {number} after {delay_ms} miliseconds is {result}\")\n",
    "\n",
    "num = float(input(\"Enter a number: \"))\n",
    "delay = int(input(\"Enter delay in milliseconds: \"))\n",
    "delayed_sqrt(num, delay)"
   ]
  },
  {
   "cell_type": "markdown",
   "metadata": {},
   "source": [
    "## 5. tuple"
   ]
  },
  {
   "cell_type": "code",
   "execution_count": null,
   "metadata": {},
   "outputs": [
    {
     "name": "stdout",
     "output_type": "stream",
     "text": [
      "False\n",
      "True\n",
      "True\n"
     ]
    }
   ],
   "source": [
    "def all_elements_true(a):\n",
    "    return all(a) \n",
    "\n",
    "tuple1 = (True, True, False) \n",
    "tuple2 = (1, 2, 3)\n",
    "tuple3 = (True, True, True)\n",
    "\n",
    "print(all_elements_true(tuple1))\n",
    "print(all_elements_true(tuple2))\n",
    "print(all_elements_true(tuple3))"
   ]
  },
  {
   "cell_type": "markdown",
   "metadata": {},
   "source": [
    "# Dir and Files"
   ]
  },
  {
   "cell_type": "code",
   "execution_count": 21,
   "metadata": {},
   "outputs": [],
   "source": [
    "import os"
   ]
  },
  {
   "cell_type": "markdown",
   "metadata": {},
   "source": [
    "## 1. specified files"
   ]
  },
  {
   "cell_type": "code",
   "execution_count": 53,
   "metadata": {},
   "outputs": [
    {
     "name": "stdout",
     "output_type": "stream",
     "text": [
      "['.git', 'lab_1', 'lab_2', 'lab_3', 'lab_4', 'lab_5', 'lab_6', '__pycache__']\n",
      "['.git', 'lab_1', 'lab_2', 'lab_3', 'lab_4', 'lab_5', 'lab_6', '__pycache__']\n",
      "[]\n"
     ]
    }
   ],
   "source": [
    "def dirs_files(path):\n",
    "    dirs__files = os.listdir(path)\n",
    "    dirs = [a for a in dirs__files if os.path.isdir(os.path.join(path, a))]\n",
    "    files = [a for a in dirs__files if os.path.isfile(os.path.join(path, a))]\n",
    "    \n",
    "    return dirs, dirs__files, files\n",
    "\n",
    "path = r\"T:\\КБТУ\\Semestr 2\\pp2\"\n",
    "for a in dirs_files(path): print(a)"
   ]
  },
  {
   "cell_type": "markdown",
   "metadata": {},
   "source": [
    "## 2. access to spec path"
   ]
  },
  {
   "cell_type": "code",
   "execution_count": 52,
   "metadata": {},
   "outputs": [
    {
     "name": "stdout",
     "output_type": "stream",
     "text": [
      "readable : True\n",
      "writable : True\n",
      "executable : True\n"
     ]
    }
   ],
   "source": [
    "def path_access(path: str):\n",
    "    return {\n",
    "        \"readable\": os.access(path, os.R_OK),\n",
    "        \"writable\": os.access(path, os.W_OK),\n",
    "        \"executable\": os.access(path, os.X_OK)\n",
    "    }\n",
    "        \n",
    "path = r\"T:\\КБТУ\\Semestr 2\\pp2\"\n",
    "for k, v in path_access(path).items(): \n",
    "    print(k, \":\", v)"
   ]
  },
  {
   "cell_type": "markdown",
   "metadata": {},
   "source": [
    "## 3. path exists"
   ]
  },
  {
   "cell_type": "code",
   "execution_count": 54,
   "metadata": {},
   "outputs": [
    {
     "name": "stdout",
     "output_type": "stream",
     "text": [
      "The path 'T:\\КБТУ\\Semestr 2\\pp2' exists.\n",
      "Directory: T:\\КБТУ\\Semestr 2\n",
      "Filename: pp2\n"
     ]
    }
   ],
   "source": [
    "import os\n",
    "\n",
    "def check_path(path):\n",
    "    if os.path.exists(path):\n",
    "        print(f\"The path '{path}' exists.\")\n",
    "        directory = os.path.dirname(path)\n",
    "        filename = os.path.basename(path)\n",
    "        print(f\"Directory: {directory}\")\n",
    "        print(f\"Filename: {filename}\")\n",
    "    else:\n",
    "        print(f\"The path '{path}' does not exist.\")\n",
    "\n",
    "path = input(\"Enter a path: \")\n",
    "check_path(path)\n"
   ]
  },
  {
   "cell_type": "markdown",
   "metadata": {},
   "source": [
    "## 4. number of lines"
   ]
  },
  {
   "cell_type": "code",
   "execution_count": 59,
   "metadata": {},
   "outputs": [
    {
     "name": "stdout",
     "output_type": "stream",
     "text": [
      "Number of lines in '3 lines.txt': 3\n"
     ]
    }
   ],
   "source": [
    "def count_lines_in_file(filename):\n",
    "    try:\n",
    "        with open(filename, 'r', encoding='utf-8') as file:\n",
    "            line_count = sum(1 for line in file)\n",
    "        print(f\"Number of lines in '{filename}': {line_count}\")\n",
    "    except FileNotFoundError:\n",
    "        print(f\"File '{filename}' not found.\")\n",
    "    except Exception as e:\n",
    "        print(f\"An error occurred: {e}\")\n",
    "\n",
    "filename = input(\"Enter the filename: \")\n",
    "count_lines_in_file(filename)"
   ]
  },
  {
   "cell_type": "markdown",
   "metadata": {},
   "source": [
    "## 5. list to a file"
   ]
  },
  {
   "cell_type": "code",
   "execution_count": 63,
   "metadata": {},
   "outputs": [
    {
     "name": "stdout",
     "output_type": "stream",
     "text": [
      "List successfully written to 'asd'\n"
     ]
    }
   ],
   "source": [
    "def write_list_to_file(filename, data_list):\n",
    "    try:\n",
    "        with open(filename, 'w', encoding='utf-8') as file:\n",
    "            for item in data_list:\n",
    "                file.write(f\"{item}\\n\")\n",
    "        print(f\"List successfully written to '{filename}'\")\n",
    "    except Exception as e:\n",
    "        print(f\"An error occurred: {e}\")\n",
    "\n",
    "data = [\"Apple\", \"Banana\", \"Cherry\", \"Date\", \"Elderberry\"]\n",
    "filename = input(\"Enter the filename to save the list: \")\n",
    "write_list_to_file(filename, data)"
   ]
  },
  {
   "cell_type": "markdown",
   "metadata": {},
   "source": [
    "## 6. creat file"
   ]
  },
  {
   "cell_type": "code",
   "execution_count": 70,
   "metadata": {},
   "outputs": [
    {
     "name": "stdout",
     "output_type": "stream",
     "text": [
      "Created: T:\\КБТУ\\Semestr 2\\pp2\\lab_6\\6 task\\A.txt\n",
      "Created: T:\\КБТУ\\Semestr 2\\pp2\\lab_6\\6 task\\B.txt\n",
      "Created: T:\\КБТУ\\Semestr 2\\pp2\\lab_6\\6 task\\C.txt\n",
      "Created: T:\\КБТУ\\Semestr 2\\pp2\\lab_6\\6 task\\D.txt\n",
      "Created: T:\\КБТУ\\Semestr 2\\pp2\\lab_6\\6 task\\E.txt\n",
      "Created: T:\\КБТУ\\Semestr 2\\pp2\\lab_6\\6 task\\F.txt\n",
      "Created: T:\\КБТУ\\Semestr 2\\pp2\\lab_6\\6 task\\G.txt\n",
      "Created: T:\\КБТУ\\Semestr 2\\pp2\\lab_6\\6 task\\H.txt\n",
      "Created: T:\\КБТУ\\Semestr 2\\pp2\\lab_6\\6 task\\I.txt\n",
      "Created: T:\\КБТУ\\Semestr 2\\pp2\\lab_6\\6 task\\J.txt\n",
      "Created: T:\\КБТУ\\Semestr 2\\pp2\\lab_6\\6 task\\K.txt\n",
      "Created: T:\\КБТУ\\Semestr 2\\pp2\\lab_6\\6 task\\L.txt\n",
      "Created: T:\\КБТУ\\Semestr 2\\pp2\\lab_6\\6 task\\M.txt\n",
      "Created: T:\\КБТУ\\Semestr 2\\pp2\\lab_6\\6 task\\N.txt\n",
      "Created: T:\\КБТУ\\Semestr 2\\pp2\\lab_6\\6 task\\O.txt\n",
      "Created: T:\\КБТУ\\Semestr 2\\pp2\\lab_6\\6 task\\P.txt\n",
      "Created: T:\\КБТУ\\Semestr 2\\pp2\\lab_6\\6 task\\Q.txt\n",
      "Created: T:\\КБТУ\\Semestr 2\\pp2\\lab_6\\6 task\\R.txt\n",
      "Created: T:\\КБТУ\\Semestr 2\\pp2\\lab_6\\6 task\\S.txt\n",
      "Created: T:\\КБТУ\\Semestr 2\\pp2\\lab_6\\6 task\\T.txt\n",
      "Created: T:\\КБТУ\\Semestr 2\\pp2\\lab_6\\6 task\\U.txt\n",
      "Created: T:\\КБТУ\\Semestr 2\\pp2\\lab_6\\6 task\\V.txt\n",
      "Created: T:\\КБТУ\\Semestr 2\\pp2\\lab_6\\6 task\\W.txt\n",
      "Created: T:\\КБТУ\\Semestr 2\\pp2\\lab_6\\6 task\\X.txt\n",
      "Created: T:\\КБТУ\\Semestr 2\\pp2\\lab_6\\6 task\\Y.txt\n",
      "Created: T:\\КБТУ\\Semestr 2\\pp2\\lab_6\\6 task\\Z.txt\n"
     ]
    }
   ],
   "source": [
    "import string\n",
    "\n",
    "def generate_text_files(directory):\n",
    "    for letter in string.ascii_uppercase:\n",
    "        filename = os.path.join(directory, f\"{letter}.txt\")\n",
    "        with open(filename, 'w', encoding='utf-8') as file:\n",
    "            file.write(f\"This is file {filename}\")\n",
    "        print(f\"Created: {filename}\")\n",
    "\n",
    "\n",
    "directory = input(\"Enter the directory where files should be created\")\n",
    "generate_text_files(directory)\n"
   ]
  },
  {
   "cell_type": "markdown",
   "metadata": {},
   "source": [
    "## 7. copy content"
   ]
  },
  {
   "cell_type": "code",
   "execution_count": 74,
   "metadata": {},
   "outputs": [
    {
     "name": "stdout",
     "output_type": "stream",
     "text": [
      "Successfully copied contents from '5 task.txt' to '7 task.txt'\n"
     ]
    }
   ],
   "source": [
    "def copy_file(source_file, destination_file):\n",
    "    try:\n",
    "        with open(source_file, 'r', encoding='utf-8') as src:\n",
    "            content = src.read()\n",
    "        with open(destination_file, 'w', encoding='utf-8') as dest:\n",
    "            dest.write(content)\n",
    "        print(f\"Successfully copied contents from '{source_file}' to '{destination_file}'\")\n",
    "    except FileNotFoundError:\n",
    "        print(f\"Error: The file '{source_file}' does not exist.\")\n",
    "    except Exception as e:\n",
    "        print(f\"An error occurred: {e}\")\n",
    "\n",
    "source = input(\"Enter the source filename: \")\n",
    "destination = input(\"Enter the destination filename: \")\n",
    "copy_file(source, destination)"
   ]
  },
  {
   "cell_type": "markdown",
   "metadata": {},
   "source": [
    "## 8. delete file"
   ]
  },
  {
   "cell_type": "code",
   "execution_count": 76,
   "metadata": {},
   "outputs": [
    {
     "name": "stdout",
     "output_type": "stream",
     "text": [
      "File '8 task.txt' has been deleted successfully.\n"
     ]
    }
   ],
   "source": [
    "def delete_file(file_path):\n",
    "    if os.path.exists(file_path):\n",
    "        if os.access(file_path, os.W_OK):\n",
    "            try:\n",
    "                os.remove(file_path)\n",
    "                print(f\"File '{file_path}' has been deleted successfully.\")\n",
    "            except Exception as e:\n",
    "                print(f\"An error occurred while deleting the file: {e}\")\n",
    "        else:\n",
    "            print(f\"Error: No permission to delete the file '{file_path}'.\")\n",
    "    else:\n",
    "        print(f\"Error: The file '{file_path}' does not exist.\")\n",
    "\n",
    "file_path = input(\"Enter the file path to delete: \")\n",
    "delete_file(file_path)"
   ]
  }
 ],
 "metadata": {
  "kernelspec": {
   "display_name": "Python 3",
   "language": "python",
   "name": "python3"
  },
  "language_info": {
   "codemirror_mode": {
    "name": "ipython",
    "version": 3
   },
   "file_extension": ".py",
   "mimetype": "text/x-python",
   "name": "python",
   "nbconvert_exporter": "python",
   "pygments_lexer": "ipython3",
   "version": "3.13.1"
  }
 },
 "nbformat": 4,
 "nbformat_minor": 2
}
